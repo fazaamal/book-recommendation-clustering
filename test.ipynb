{
 "cells": [
  {
   "cell_type": "code",
   "execution_count": 1,
   "metadata": {},
   "outputs": [
    {
     "name": "stderr",
     "output_type": "stream",
     "text": [
      "C:\\Users\\fazas\\AppData\\Local\\Temp\\ipykernel_18280\\299976864.py:7: FutureWarning: The error_bad_lines argument has been deprecated and will be removed in a future version. Use on_bad_lines in the future.\n",
      "\n",
      "\n",
      "  users=pd.read_csv('./data/BX-Users.csv',sep=\";\",error_bad_lines=False, encoding='latin-1')\n",
      "C:\\Users\\fazas\\AppData\\Local\\Temp\\ipykernel_18280\\299976864.py:8: FutureWarning: The error_bad_lines argument has been deprecated and will be removed in a future version. Use on_bad_lines in the future.\n",
      "\n",
      "\n",
      "  books = pd.read_csv('./data/BX-Books.csv',sep=\";\",error_bad_lines=False, encoding='latin-1')\n",
      "Skipping line 6452: expected 8 fields, saw 9\n",
      "Skipping line 43667: expected 8 fields, saw 10\n",
      "Skipping line 51751: expected 8 fields, saw 9\n",
      "\n",
      "Skipping line 92038: expected 8 fields, saw 9\n",
      "Skipping line 104319: expected 8 fields, saw 9\n",
      "Skipping line 121768: expected 8 fields, saw 9\n",
      "\n",
      "Skipping line 144058: expected 8 fields, saw 9\n",
      "Skipping line 150789: expected 8 fields, saw 9\n",
      "Skipping line 157128: expected 8 fields, saw 9\n",
      "Skipping line 180189: expected 8 fields, saw 9\n",
      "Skipping line 185738: expected 8 fields, saw 9\n",
      "\n",
      "Skipping line 209388: expected 8 fields, saw 9\n",
      "Skipping line 220626: expected 8 fields, saw 9\n",
      "Skipping line 227933: expected 8 fields, saw 11\n",
      "Skipping line 228957: expected 8 fields, saw 10\n",
      "Skipping line 245933: expected 8 fields, saw 9\n",
      "Skipping line 251296: expected 8 fields, saw 9\n",
      "Skipping line 259941: expected 8 fields, saw 9\n",
      "Skipping line 261529: expected 8 fields, saw 9\n",
      "\n",
      "C:\\Users\\fazas\\AppData\\Local\\Temp\\ipykernel_18280\\299976864.py:8: DtypeWarning: Columns (3) have mixed types. Specify dtype option on import or set low_memory=False.\n",
      "  books = pd.read_csv('./data/BX-Books.csv',sep=\";\",error_bad_lines=False, encoding='latin-1')\n",
      "C:\\Users\\fazas\\AppData\\Local\\Temp\\ipykernel_18280\\299976864.py:9: FutureWarning: The error_bad_lines argument has been deprecated and will be removed in a future version. Use on_bad_lines in the future.\n",
      "\n",
      "\n",
      "  rating=pd.read_csv('./data/BX-Book-Ratings.csv',sep=\";\",error_bad_lines=False, encoding='latin-1')\n"
     ]
    }
   ],
   "source": [
    "import numpy as np # linear algebra\n",
    "import pandas as pd\n",
    "from scipy.sparse import csr_matrix\n",
    "from sklearn.neighbors import NearestNeighbors\n",
    "\n",
    "# Load the data\n",
    "users=pd.read_csv('./data/BX-Users.csv',sep=\";\",error_bad_lines=False, encoding='latin-1')\n",
    "books = pd.read_csv('./data/BX-Books.csv',sep=\";\",error_bad_lines=False, encoding='latin-1')\n",
    "rating=pd.read_csv('./data/BX-Book-Ratings.csv',sep=\";\",error_bad_lines=False, encoding='latin-1')\n",
    "\n",
    "books=books[['ISBN', 'Book-Title', 'Book-Author', 'Year-Of-Publication', 'Publisher']]\n",
    "\n",
    "books.rename(columns={'Book-Title':'title','Book-Author':'author','Year-Of-Publication':'year','Publisher':'publisher'},inplace=True) #feature engineering : changing the column names\n",
    "users.rename(columns={'User-ID':'user_id','Location':'location','Age':'age'},inplace=True)\n",
    "rating.rename(columns={'User-ID':'user_id','Book-Rating':'rating'},inplace=True)\n",
    "rating_with_books=rating.merge(books,on='ISBN') # Merge ratings with books based on ISBN number to new df\n",
    "# print(rating_with_books)\n",
    "number_rating=rating_with_books.groupby('title')['rating'].count().reset_index() \n",
    "# print(number_rating)\n",
    "number_rating.rename(columns={'rating':'number of rating'},inplace=True)\n",
    "\n",
    "final_ratings=rating_with_books.merge(number_rating,on='title') \n",
    "final_ratings=final_ratings[final_ratings['number of rating']>=50] ## considering those books which has got more than 50 ratings \n",
    "final_ratings.drop_duplicates(['user_id','title'],inplace=True) ## droping the same record \n",
    "\n",
    "book_pivot=final_ratings.pivot_table(columns='user_id',index='title',values='rating') ## creating pivot table\n",
    "book_pivot.fillna(0,inplace=True) ## Fill na values to 0\n",
    "# print(book_pivot)\n",
    "\n",
    "    \n",
    "book_sparse=csr_matrix(book_pivot)\n",
    "model=NearestNeighbors(algorithm='brute') ## model\n",
    "\n",
    "# print(books.head(2))\n",
    "# print(users.head(2))\n",
    "# print(rating.head(2))\n"
   ]
  },
  {
   "cell_type": "code",
   "execution_count": 16,
   "metadata": {},
   "outputs": [
    {
     "data": {
      "text/plain": [
       "array([0., 6., 0., ..., 0., 0., 0.])"
      ]
     },
     "execution_count": 16,
     "metadata": {},
     "output_type": "execute_result"
    }
   ],
   "source": [
    "book_pivot.iloc[237].values.reshape(1,-1)"
   ]
  }
 ],
 "metadata": {
  "kernelspec": {
   "display_name": "Python 3",
   "language": "python",
   "name": "python3"
  },
  "language_info": {
   "codemirror_mode": {
    "name": "ipython",
    "version": 3
   },
   "file_extension": ".py",
   "mimetype": "text/x-python",
   "name": "python",
   "nbconvert_exporter": "python",
   "pygments_lexer": "ipython3",
   "version": "3.10.4"
  },
  "orig_nbformat": 4,
  "vscode": {
   "interpreter": {
    "hash": "ae8aa789dd01b08092b3cd51e2ef8979073269a70856d7b45a3805550619b493"
   }
  }
 },
 "nbformat": 4,
 "nbformat_minor": 2
}
